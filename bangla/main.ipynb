{
 "cells": [
  {
   "cell_type": "markdown",
   "id": "f633a831",
   "metadata": {},
   "source": [
    "# Banglish Sentiment Challenge\n",
    "Welcome! This notebook will guide you through the process of classifying Bangla-English mixed sentences into Positive, Negative, or Neutral sentiment.\n",
    "\n",
    "## Workflow Overview\n",
    "1. **Import Libraries**: Load required packages (e.g., pandas, transformers, etc.).\n",
    "2. **Load Data**: Read the provided CSV files.\n",
    "3. **Zero-shot Sentiment Classification**: Use a multilingual model or prompt engineering to predict sentiment.\n",
    "4. **Prepare Submission**: Format predictions for submission.\n",
    "5. **Evaluation**: (Optional) Calculate macro-averaged F1-score if ground truth is available.\n",
    "\n",
    "Let's get started!"
   ]
  },
  {
   "cell_type": "code",
   "execution_count": 2,
   "id": "a4fdeaa3",
   "metadata": {},
   "outputs": [
    {
     "name": "stdout",
     "output_type": "stream",
     "text": [
      "Label distribution:\n",
      "predicted_sentiment\n",
      "negative    3\n",
      "neutral     3\n",
      "positive    1\n",
      "Name: count, dtype: int64\n",
      "\n",
      "Sample data:\n",
      "           id                               text predicted_sentiment\n",
      "0  sample_799        Rate deri kore ghumiyechi 👎            negative\n",
      "1  sample_825  Bagane phul phuteche onek sundor             positive\n",
      "2  sample_226          Database এ error দেখাচ্ছে            negative\n",
      "3    sample_9          Sondhyay parke halte jabo             neutral\n",
      "4   sample_16        রান্নাঘরে মা কাজ করছেন 🤦‍♂️            negative\n"
     ]
    }
   ],
   "source": [
    "# Analyze label distribution in example.csv\n",
    "import pandas as pd\n",
    "example_df = pd.read_csv('example.csv')\n",
    "print('Label distribution:')\n",
    "print(example_df['predicted_sentiment'].value_counts())\n",
    "print('\\nSample data:')\n",
    "print(example_df.head())"
   ]
  },
  {
   "cell_type": "markdown",
   "id": "056fc1a0",
   "metadata": {},
   "source": [
    "## Few-shot Training and Prediction\n",
    "We will use the labeled examples from `example.csv` for few-shot learning or prompt engineering, and predict sentiment for the sentences in `test.csv`."
   ]
  },
  {
   "cell_type": "code",
   "execution_count": 3,
   "id": "7dfc0e19",
   "metadata": {},
   "outputs": [
    {
     "name": "stdout",
     "output_type": "stream",
     "text": [
      "Test data sample:\n",
      "           id                                text\n",
      "0  sample_798          I bought a নতুন বই to read\n",
      "1  sample_141  Bondhudero sathe ghurte giyechilam\n",
      "2  sample_675           Bazare aj onek bhir chilo\n",
      "3  sample_574  এই movie টা really interesting ছিল\n",
      "4  sample_488        সন্ধ্যায় পার্কে হাঁটতে যাবো\n"
     ]
    }
   ],
   "source": [
    "\n",
    "\n",
    "# Load test.csv for prediction\n",
    "test_df = pd.read_csv('test.csv')\n",
    "print('Test data sample:')\n",
    "print(test_df.head())"
   ]
  },
  {
   "cell_type": "code",
   "execution_count": 4,
   "id": "a7f4ae82",
   "metadata": {},
   "outputs": [
    {
     "name": "stderr",
     "output_type": "stream",
     "text": [
      "/home/anando/.local/lib/python3.10/site-packages/tqdm/auto.py:21: TqdmWarning: IProgress not found. Please update jupyter and ipywidgets. See https://ipywidgets.readthedocs.io/en/stable/user_install.html\n",
      "  from .autonotebook import tqdm as notebook_tqdm\n",
      "2025-07-28 12:02:56.407786: I external/local_xla/xla/tsl/cuda/cudart_stub.cc:32] Could not find cuda drivers on your machine, GPU will not be used.\n",
      "2025-07-28 12:02:57.692285: I external/local_xla/xla/tsl/cuda/cudart_stub.cc:32] Could not find cuda drivers on your machine, GPU will not be used.\n",
      "2025-07-28 12:02:58.562636: E external/local_xla/xla/stream_executor/cuda/cuda_fft.cc:467] Unable to register cuFFT factory: Attempting to register factory for plugin cuFFT when one has already been registered\n",
      "WARNING: All log messages before absl::InitializeLog() is called are written to STDERR\n",
      "E0000 00:00:1753682579.188485   10044 cuda_dnn.cc:8579] Unable to register cuDNN factory: Attempting to register factory for plugin cuDNN when one has already been registered\n",
      "E0000 00:00:1753682579.332706   10044 cuda_blas.cc:1407] Unable to register cuBLAS factory: Attempting to register factory for plugin cuBLAS when one has already been registered\n",
      "W0000 00:00:1753682580.750461   10044 computation_placer.cc:177] computation placer already registered. Please check linkage and avoid linking the same target more than once.\n",
      "W0000 00:00:1753682580.750498   10044 computation_placer.cc:177] computation placer already registered. Please check linkage and avoid linking the same target more than once.\n",
      "W0000 00:00:1753682580.750503   10044 computation_placer.cc:177] computation placer already registered. Please check linkage and avoid linking the same target more than once.\n",
      "W0000 00:00:1753682580.750508   10044 computation_placer.cc:177] computation placer already registered. Please check linkage and avoid linking the same target more than once.\n",
      "2025-07-28 12:02:56.407786: I external/local_xla/xla/tsl/cuda/cudart_stub.cc:32] Could not find cuda drivers on your machine, GPU will not be used.\n",
      "2025-07-28 12:02:57.692285: I external/local_xla/xla/tsl/cuda/cudart_stub.cc:32] Could not find cuda drivers on your machine, GPU will not be used.\n",
      "2025-07-28 12:02:58.562636: E external/local_xla/xla/stream_executor/cuda/cuda_fft.cc:467] Unable to register cuFFT factory: Attempting to register factory for plugin cuFFT when one has already been registered\n",
      "WARNING: All log messages before absl::InitializeLog() is called are written to STDERR\n",
      "E0000 00:00:1753682579.188485   10044 cuda_dnn.cc:8579] Unable to register cuDNN factory: Attempting to register factory for plugin cuDNN when one has already been registered\n",
      "E0000 00:00:1753682579.332706   10044 cuda_blas.cc:1407] Unable to register cuBLAS factory: Attempting to register factory for plugin cuBLAS when one has already been registered\n",
      "W0000 00:00:1753682580.750461   10044 computation_placer.cc:177] computation placer already registered. Please check linkage and avoid linking the same target more than once.\n",
      "W0000 00:00:1753682580.750498   10044 computation_placer.cc:177] computation placer already registered. Please check linkage and avoid linking the same target more than once.\n",
      "W0000 00:00:1753682580.750503   10044 computation_placer.cc:177] computation placer already registered. Please check linkage and avoid linking the same target more than once.\n",
      "W0000 00:00:1753682580.750508   10044 computation_placer.cc:177] computation placer already registered. Please check linkage and avoid linking the same target more than once.\n"
     ]
    },
    {
     "ename": "NameError",
     "evalue": "name 'torch' is not defined",
     "output_type": "error",
     "traceback": [
      "\u001b[0;31m---------------------------------------------------------------------------\u001b[0m",
      "\u001b[0;31mNameError\u001b[0m                                 Traceback (most recent call last)",
      "Cell \u001b[0;32mIn[4], line 7\u001b[0m\n\u001b[1;32m      4\u001b[0m \u001b[38;5;66;03m# Prepare prompt examples for each label\u001b[39;00m\n\u001b[1;32m      5\u001b[0m examples \u001b[38;5;241m=\u001b[39m example_df[[\u001b[38;5;124m'\u001b[39m\u001b[38;5;124mtext\u001b[39m\u001b[38;5;124m'\u001b[39m, \u001b[38;5;124m'\u001b[39m\u001b[38;5;124mpredicted_sentiment\u001b[39m\u001b[38;5;124m'\u001b[39m]]\u001b[38;5;241m.\u001b[39mvalues\u001b[38;5;241m.\u001b[39mtolist()\n\u001b[0;32m----> 7\u001b[0m classifier \u001b[38;5;241m=\u001b[39m \u001b[43mpipeline\u001b[49m\u001b[43m(\u001b[49m\u001b[38;5;124;43m'\u001b[39;49m\u001b[38;5;124;43mzero-shot-classification\u001b[39;49m\u001b[38;5;124;43m'\u001b[39;49m\u001b[43m,\u001b[49m\u001b[43m \u001b[49m\u001b[43mmodel\u001b[49m\u001b[38;5;241;43m=\u001b[39;49m\u001b[38;5;124;43m'\u001b[39;49m\u001b[38;5;124;43mjoeddav/xlm-roberta-large-xnli\u001b[39;49m\u001b[38;5;124;43m'\u001b[39;49m\u001b[43m)\u001b[49m\n\u001b[1;32m      8\u001b[0m labels \u001b[38;5;241m=\u001b[39m [\u001b[38;5;124m'\u001b[39m\u001b[38;5;124mpositive\u001b[39m\u001b[38;5;124m'\u001b[39m, \u001b[38;5;124m'\u001b[39m\u001b[38;5;124mnegative\u001b[39m\u001b[38;5;124m'\u001b[39m, \u001b[38;5;124m'\u001b[39m\u001b[38;5;124mneutral\u001b[39m\u001b[38;5;124m'\u001b[39m]\n\u001b[1;32m     10\u001b[0m \u001b[38;5;28;01mdef\u001b[39;00m\u001b[38;5;250m \u001b[39m\u001b[38;5;21mpredict_with_examples\u001b[39m(text, examples, labels):\n\u001b[1;32m     11\u001b[0m     \u001b[38;5;66;03m# Optionally, you can concatenate example texts to the input for prompt engineering\u001b[39;00m\n\u001b[1;32m     12\u001b[0m     \u001b[38;5;66;03m# For simplicity, we use the classifier directly here\u001b[39;00m\n",
      "File \u001b[0;32m~/.local/lib/python3.10/site-packages/transformers/pipelines/__init__.py:998\u001b[0m, in \u001b[0;36mpipeline\u001b[0;34m(task, model, config, tokenizer, feature_extractor, image_processor, processor, framework, revision, use_fast, token, device, device_map, torch_dtype, trust_remote_code, model_kwargs, pipeline_class, **kwargs)\u001b[0m\n\u001b[1;32m    993\u001b[0m         \u001b[38;5;28;01mraise\u001b[39;00m \u001b[38;5;167;01mValueError\u001b[39;00m(\n\u001b[1;32m    994\u001b[0m             \u001b[38;5;124m'\u001b[39m\u001b[38;5;124mYou cannot use both `pipeline(... torch_dtype=..., model_kwargs=\u001b[39m\u001b[38;5;124m{\u001b[39m\u001b[38;5;124m\"\u001b[39m\u001b[38;5;124mtorch_dtype\u001b[39m\u001b[38;5;124m\"\u001b[39m\u001b[38;5;124m:...})` as those\u001b[39m\u001b[38;5;124m'\u001b[39m\n\u001b[1;32m    995\u001b[0m             \u001b[38;5;124m\"\u001b[39m\u001b[38;5;124m arguments might conflict, use only one.)\u001b[39m\u001b[38;5;124m\"\u001b[39m\n\u001b[1;32m    996\u001b[0m         )\n\u001b[1;32m    997\u001b[0m \u001b[38;5;28;01mif\u001b[39;00m torch_dtype \u001b[38;5;129;01mis\u001b[39;00m \u001b[38;5;129;01mnot\u001b[39;00m \u001b[38;5;28;01mNone\u001b[39;00m:\n\u001b[0;32m--> 998\u001b[0m     \u001b[38;5;28;01mif\u001b[39;00m \u001b[38;5;28misinstance\u001b[39m(torch_dtype, \u001b[38;5;28mstr\u001b[39m) \u001b[38;5;129;01mand\u001b[39;00m \u001b[38;5;28mhasattr\u001b[39m(\u001b[43mtorch\u001b[49m, torch_dtype):\n\u001b[1;32m    999\u001b[0m         torch_dtype \u001b[38;5;241m=\u001b[39m \u001b[38;5;28mgetattr\u001b[39m(torch, torch_dtype)\n\u001b[1;32m   1000\u001b[0m     model_kwargs[\u001b[38;5;124m\"\u001b[39m\u001b[38;5;124mtorch_dtype\u001b[39m\u001b[38;5;124m\"\u001b[39m] \u001b[38;5;241m=\u001b[39m torch_dtype\n",
      "\u001b[0;31mNameError\u001b[0m: name 'torch' is not defined"
     ]
    }
   ],
   "source": [
    "# Few-shot prompt engineering using example.csv for zero-shot classification\n",
    "from transformers import pipeline\n",
    "\n",
    "# Prepare prompt examples for each label\n",
    "examples = example_df[['text', 'predicted_sentiment']].values.tolist()\n",
    "\n",
    "classifier = pipeline('zero-shot-classification', model='joeddav/xlm-roberta-large-xnli')\n",
    "labels = ['positive', 'negative', 'neutral']\n",
    "\n",
    "def predict_with_examples(text, examples, labels):\n",
    "    # Optionally, you can concatenate example texts to the input for prompt engineering\n",
    "    # For simplicity, we use the classifier directly here\n",
    "    return classifier(text, labels)['labels'][0]\n",
    "\n",
    "test_df['sentiment'] = test_df['text'].apply(lambda x: predict_with_examples(x, examples, labels))\n",
    "test_df[['id', 'text', 'sentiment']].head()"
   ]
  },
  {
   "cell_type": "code",
   "execution_count": null,
   "id": "0c115e01",
   "metadata": {},
   "outputs": [],
   "source": [
    "# Save new predictions to submission.csv\n",
    "submission = test_df[['id', 'sentiment']]\n",
    "submission.to_csv('submission.csv', index=False)\n",
    "print('Submission file saved as submission.csv')"
   ]
  },
  {
   "cell_type": "code",
   "execution_count": null,
   "id": "e84a5ffb",
   "metadata": {},
   "outputs": [],
   "source": [
    "# Import required libraries\n",
    "import pandas as pd\n",
    "import numpy as np\n",
    "from transformers import pipeline\n",
    "import os\n",
    "\n",
    "# Load the test data\n",
    "test_df = pd.read_csv('test.csv')\n",
    "test_df.head()"
   ]
  },
  {
   "cell_type": "markdown",
   "id": "a86d5587",
   "metadata": {},
   "source": [
    "## Zero-shot Sentiment Classification\n",
    "We will use a multilingual transformer model (such as XLM-RoBERTa or mBERT) with Hugging Face's zero-shot classification pipeline to predict sentiment for each Banglish sentence.\n",
    "\n",
    "The candidate labels are:\n",
    "- positive\n",
    "- negative\n",
    "- neutral"
   ]
  },
  {
   "cell_type": "code",
   "execution_count": null,
   "id": "d76cc87d",
   "metadata": {},
   "outputs": [],
   "source": [
    "# Initialize zero-shot classification pipeline\n",
    "classifier = pipeline('zero-shot-classification', model='joeddav/xlm-roberta-large-xnli')\n",
    "\n",
    "# Define candidate labels\n",
    "labels = ['positive', 'negative', 'neutral']\n",
    "\n",
    "# Predict sentiment for each sentence\n",
    "def predict_sentiment(text):\n",
    "    result = classifier(text, labels)\n",
    "    return result['labels'][0]\n",
    "\n",
    "test_df['sentiment'] = test_df['text'].apply(predict_sentiment)\n",
    "test_df[['text', 'sentiment']].head()"
   ]
  },
  {
   "cell_type": "markdown",
   "id": "086dd177",
   "metadata": {},
   "source": [
    "## Prepare Submission\n",
    "Format the predictions as required and save to `submission.csv`."
   ]
  },
  {
   "cell_type": "code",
   "execution_count": null,
   "id": "998a8993",
   "metadata": {},
   "outputs": [],
   "source": [
    "# Save predictions to submission.csv\n",
    "submission = test_df[['id', 'sentiment']]\n",
    "submission.to_csv('submission.csv', index=False)\n",
    "print('Submission file saved as submission.csv')"
   ]
  },
  {
   "cell_type": "markdown",
   "id": "dfabaff4",
   "metadata": {},
   "source": [
    "## Evaluation (Optional)\n",
    "If you have ground truth labels, you can evaluate your predictions using the macro-averaged F1-score."
   ]
  },
  {
   "cell_type": "code",
   "execution_count": null,
   "id": "e645c546",
   "metadata": {},
   "outputs": [],
   "source": [
    "# Optional: Evaluate using macro-averaged F1-score if ground truth is available\n",
    "from sklearn.metrics import f1_score\n",
    "\n",
    "# If you have a column 'true_sentiment' in test_df, uncomment below:\n",
    "f1 = f1_score(test_df['true_sentiment'], test_df['sentiment'], average='macro')\n",
    "print('Macro-averaged F1-score:', f1)"
   ]
  }
 ],
 "metadata": {
  "kernelspec": {
   "display_name": "Python 3",
   "language": "python",
   "name": "python3"
  },
  "language_info": {
   "codemirror_mode": {
    "name": "ipython",
    "version": 3
   },
   "file_extension": ".py",
   "mimetype": "text/x-python",
   "name": "python",
   "nbconvert_exporter": "python",
   "pygments_lexer": "ipython3",
   "version": "3.10.12"
  }
 },
 "nbformat": 4,
 "nbformat_minor": 5
}
